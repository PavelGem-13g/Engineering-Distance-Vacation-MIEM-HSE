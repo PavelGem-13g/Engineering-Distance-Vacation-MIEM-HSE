{
 "cells": [
  {
   "cell_type": "code",
   "execution_count": 30,
   "metadata": {},
   "outputs": [
    {
     "name": "stdout",
     "output_type": "stream",
     "text": [
      "Bad marks =  2\n",
      "Average score =  3.4\n"
     ]
    }
   ],
   "source": [
    "with open('Text.txt', 'r') as f:\n",
    "    f = f.read()\n",
    "\n",
    "print(\"Bad marks = \",f.count(\"2\"))\n",
    "score_count = 0\n",
    "k = 0\n",
    "information = f.split(\" \")\n",
    "\n",
    "for i in information:\n",
    "    if i.isdigit():\n",
    "        score_count+=int(i)\n",
    "        k += 1\n",
    "\n",
    "print(\"Average score = \", score_count/k)"
   ]
  },
  {
   "cell_type": "code",
   "execution_count": null,
   "metadata": {},
   "outputs": [],
   "source": []
  }
 ],
 "metadata": {
  "kernelspec": {
   "display_name": "Python 3",
   "language": "python",
   "name": "python3"
  },
  "language_info": {
   "codemirror_mode": {
    "name": "ipython",
    "version": 3
   },
   "file_extension": ".py",
   "mimetype": "text/x-python",
   "name": "python",
   "nbconvert_exporter": "python",
   "pygments_lexer": "ipython3",
   "version": "3.8.3"
  }
 },
 "nbformat": 4,
 "nbformat_minor": 4
}
