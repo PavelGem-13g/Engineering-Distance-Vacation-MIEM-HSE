{
 "cells": [
  {
   "cell_type": "code",
   "execution_count": 26,
   "metadata": {},
   "outputs": [
    {
     "name": "stdout",
     "output_type": "stream",
     "text": [
      "12\n"
     ]
    }
   ],
   "source": [
    "def pluse (s,t):\n",
    "    if a.isdigit() and int(s)>10:\n",
    "        s=0\n",
    "    r = int(s)+t\n",
    "    return r\n",
    "\n",
    "print(pluse('9',3))"
   ]
  },
  {
   "cell_type": "code",
   "execution_count": 29,
   "metadata": {},
   "outputs": [
    {
     "name": "stdout",
     "output_type": "stream",
     "text": [
      "Vfhbzцукцукц\n",
      "V\n",
      "ц\n",
      "V\n",
      "ц\n",
      "fh\n",
      "fb\n",
      "ц\n"
     ]
    }
   ],
   "source": [
    "s = 'Vfhbzцукцукц'\n",
    "print(s)\n",
    "print(s[0])\n",
    "print(s[len(s)-1])\n",
    "print(s[-len(s)]) # print(s[-5])\n",
    "print(s[-1]) # выводит последний элемент\n",
    "print(s[1:3])# срез\n",
    "print(s[1:4:2])# срез с шагом\n",
    "print(s[-1:-3:-2])# ход в обратную сторону"
   ]
  },
  {
   "cell_type": "code",
   "execution_count": 33,
   "metadata": {},
   "outputs": [
    {
     "name": "stdout",
     "output_type": "stream",
     "text": [
      "3\n",
      "2\n",
      "27\n",
      "end\n"
     ]
    }
   ],
   "source": [
    "try:\n",
    "    x = int(input())\n",
    "    print(7//x)\n",
    "except ZeroDivisionError:\n",
    "    print(\"123\")\n",
    "except ValueError:\n",
    "    print(\"132\")\n",
    "else:\n",
    "    print(x**x)\n",
    "finally:\n",
    "    print('end')"
   ]
  },
  {
   "cell_type": "code",
   "execution_count": null,
   "metadata": {},
   "outputs": [],
   "source": []
  }
 ],
 "metadata": {
  "kernelspec": {
   "display_name": "Python 3",
   "language": "python",
   "name": "python3"
  },
  "language_info": {
   "codemirror_mode": {
    "name": "ipython",
    "version": 3
   },
   "file_extension": ".py",
   "mimetype": "text/x-python",
   "name": "python",
   "nbconvert_exporter": "python",
   "pygments_lexer": "ipython3",
   "version": "3.8.3"
  }
 },
 "nbformat": 4,
 "nbformat_minor": 4
}
