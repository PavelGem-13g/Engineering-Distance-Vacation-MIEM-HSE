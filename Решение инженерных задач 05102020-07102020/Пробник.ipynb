{
 "cells": [
  {
   "cell_type": "code",
   "execution_count": 2,
   "metadata": {},
   "outputs": [
    {
     "name": "stdout",
     "output_type": "stream",
     "text": [
      "['Sidorov sdfs 5 \\n', 'asdasda dasd 3 \\n', 'dasdasd ddsd 2 \\n', 'dsaad gfgfd 5 \\n', 'dadas ds 2 ']\n",
      "Length =  16  word count 4\n",
      "Length =  16  word count 4\n",
      "Length =  16  word count 4\n",
      "Length =  15  word count 4\n",
      "Length =  11  word count 4\n"
     ]
    }
   ],
   "source": [
    "with open('Text.txt', 'r') as f:\n",
    "    f1 = f.readlines()\n",
    "    print(f1)\n",
    "\n",
    "    \n",
    "for i in f1:\n",
    "    print(\"Length = \",len(i),\" word count\", i.count(\" \")+1)\n"
   ]
  },
  {
   "cell_type": "code",
   "execution_count": null,
   "metadata": {},
   "outputs": [],
   "source": []
  }
 ],
 "metadata": {
  "kernelspec": {
   "display_name": "Python 3",
   "language": "python",
   "name": "python3"
  },
  "language_info": {
   "codemirror_mode": {
    "name": "ipython",
    "version": 3
   },
   "file_extension": ".py",
   "mimetype": "text/x-python",
   "name": "python",
   "nbconvert_exporter": "python",
   "pygments_lexer": "ipython3",
   "version": "3.8.3"
  }
 },
 "nbformat": 4,
 "nbformat_minor": 4
}
