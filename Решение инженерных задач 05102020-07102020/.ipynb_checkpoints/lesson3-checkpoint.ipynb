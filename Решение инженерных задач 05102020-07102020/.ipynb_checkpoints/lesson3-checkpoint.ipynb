{
 "cells": [
  {
   "cell_type": "markdown",
   "metadata": {},
   "source": [
    "# Нахождение уравнения касательной с исрользованием библеотек numpy и sympy\n",
    "# y=kx+b"
   ]
  },
  {
   "cell_type": "code",
   "execution_count": 29,
   "metadata": {},
   "outputs": [
    {
     "name": "stdout",
     "output_type": "stream",
     "text": [
      "Введите x0\n",
      "5\n",
      "Введите y0\n",
      "5\n",
      "Введите радиус\n",
      "5\n",
      "Введите x1\n",
      "7\n",
      "Введите y1\n",
      "6\n"
     ]
    },
    {
     "data": {
      "text/latex": [
       "$\\displaystyle k x - 7.0 k + 6.0$"
      ],
      "text/plain": [
       "k*x - 7.0*k + 6.0"
      ]
     },
     "execution_count": 29,
     "metadata": {},
     "output_type": "execute_result"
    }
   ],
   "source": [
    "import numpy as np\n",
    "from sympy import *\n",
    "\n",
    "#(x0, y0) - координата центра окужности\n",
    "print(\"Введите x0\")\n",
    "x0 = float(input())\n",
    "\n",
    "print(\"Введите y0\")\n",
    "y0 = float(input())\n",
    "\n",
    "print(\"Введите радиус\")\n",
    "r = float(input())\n",
    "\n",
    "# (x1,y1) - точка касания\n",
    "\n",
    "print(\"Введите x1\")\n",
    "x1 = float(input())\n",
    "\n",
    "print(\"Введите y1\")\n",
    "y1 = float(input())\n",
    "\n",
    "# перечисляем символьные переменные\n",
    "x,y,k = symbols('x y k')\n",
    "\n",
    "# уравнение прямой по двум точкам\n",
    "\n",
    "y2 = k * (x - x1) - (y - y1)\n",
    "res_y = solve(y2,y)[0]\n",
    "res_y"
   ]
  },
  {
   "cell_type": "code",
   "execution_count": 30,
   "metadata": {},
   "outputs": [
    {
     "data": {
      "text/latex": [
       "$\\displaystyle 25.0 \\left(0.2 x - 1\\right)^{2} + 49.0 \\left(0.142857142857143 k x - k + 0.142857142857143\\right)^{2} - 25.0$"
      ],
      "text/plain": [
       "25.0*(0.2*x - 1)**2 + 49.0*(0.142857142857143*k*x - k + 0.142857142857143)**2 - 25.0"
      ]
     },
     "execution_count": 30,
     "metadata": {},
     "output_type": "execute_result"
    }
   ],
   "source": [
    "# нахождение x2 с помощью окружности\n",
    "\n",
    "x2 = (x - x0) ** 2 + (res_y - y0)**2 - r**2\n",
    "x2"
   ]
  },
  {
   "cell_type": "code",
   "execution_count": 31,
   "metadata": {},
   "outputs": [
    {
     "data": {
      "text/latex": [
       "$\\displaystyle 49.0 k^{2} - 14.0 k + x^{2} \\left(1.0 k^{2} + 1.0\\right) + x \\left(- 14.0 k^{2} + 2.0 k - 10.0\\right) + 1.0$"
      ],
      "text/plain": [
       "49.0*k**2 - 14.0*k + x**2*(1.0*k**2 + 1.0) + x*(-14.0*k**2 + 2.0*k - 10.0) + 1.0"
      ]
     },
     "execution_count": 31,
     "metadata": {},
     "output_type": "execute_result"
    }
   ],
   "source": [
    "# упрощение выражения и приведение к общему знаменателю\n",
    "\n",
    "x3 = collect(x2.cancel(),x)\n",
    "x3"
   ]
  },
  {
   "cell_type": "code",
   "execution_count": 32,
   "metadata": {},
   "outputs": [
    {
     "data": {
      "text/latex": [
       "$\\displaystyle \\operatorname{Poly}{\\left( \\left(1.0 k^{2} + 1.0\\right) x^{2} + \\left(- 14.0 k^{2} + 2.0 k - 10.0\\right) x + 49.0 k^{2} - 14.0 k + 1.0, x, domain=\\mathbb{R}\\left[k\\right] \\right)}$"
      ],
      "text/plain": [
       "Poly((1.0*k**2 + 1.0)*x**2 + (-14.0*k**2 + 2.0*k - 10.0)*x + 49.0*k**2 - 14.0*k + 1.0, x, domain='RR[k]')"
      ]
     },
     "execution_count": 32,
     "metadata": {},
     "output_type": "execute_result"
    }
   ],
   "source": [
    "# преобразование в полином\n",
    "\n",
    "p = poly_from_expr(x3,x)[0]\n",
    "p"
   ]
  },
  {
   "cell_type": "code",
   "execution_count": 33,
   "metadata": {},
   "outputs": [
    {
     "name": "stdout",
     "output_type": "stream",
     "text": [
      "1.0*k**2 + 1.0\n",
      "-14.0*k**2 + 2.0*k - 10.0\n",
      "49.0*k**2 - 14.0*k + 1.0\n"
     ]
    }
   ],
   "source": [
    "# выделение/ отсечение коэффицентов с помощью встроенной функции\n",
    "a = p.coeff_monomial(x**2)\n",
    "b = p.coeff_monomial(x)\n",
    "c = p.coeff_monomial(1)\n",
    "print(a)\n",
    "print(b)\n",
    "print(c)"
   ]
  },
  {
   "cell_type": "code",
   "execution_count": 34,
   "metadata": {},
   "outputs": [
    {
     "data": {
      "text/plain": [
       "[-0.0952380952380952 - 1.0647942749999*I,\n",
       " -0.0952380952380952 + 1.0647942749999*I]"
      ]
     },
     "execution_count": 34,
     "metadata": {},
     "output_type": "execute_result"
    }
   ],
   "source": [
    "res = solve(b**2 - 4 * a * c,k)\n",
    "res"
   ]
  },
  {
   "cell_type": "code",
   "execution_count": 35,
   "metadata": {},
   "outputs": [
    {
     "name": "stdout",
     "output_type": "stream",
     "text": [
      "i = -0.0952380952380952 - 1.0647942749999*I\n",
      "y = <bound method EvalfMixin.evalf of x*(-0.0952380952380952 - 1.0647942749999*I) + 6.66666666666667 + 7.4535599249993*I>\n",
      "y = x*(-0.0952380952380952 - 1.0647942749999*I) + 6.66666666666667 + 7.4535599249993*I\n",
      "i = -0.0952380952380952 + 1.0647942749999*I\n",
      "y = <bound method EvalfMixin.evalf of x*(-0.0952380952380952 + 1.0647942749999*I) + 6.66666666666667 - 7.4535599249993*I>\n",
      "y = x*(-0.0952380952380952 + 1.0647942749999*I) + 6.66666666666667 - 7.4535599249993*I\n"
     ]
    }
   ],
   "source": [
    "# формирование уравнениея касательной\n",
    "\n",
    "t = []\n",
    "for i in res:\n",
    "    print(\"i =\",i)\n",
    "    t.append(res_y.subs({k:i}))# sabs - упрощение\n",
    "    print(\"y =\",t[-1].evalf)# evalf - \n",
    "    print(\"y =\",t[-1])"
   ]
  },
  {
   "cell_type": "code",
   "execution_count": null,
   "metadata": {},
   "outputs": [],
   "source": []
  },
  {
   "cell_type": "code",
   "execution_count": 36,
   "metadata": {},
   "outputs": [
    {
     "name": "stdout",
     "output_type": "stream",
     "text": [
      "Введите x0\n",
      "5\n",
      "Введите y0\n",
      "5\n",
      "Введите радиус\n",
      "5\n",
      "Введите x1\n",
      "7\n",
      "Введите y1\n",
      "6\n",
      "i = -0.0952380952380952 - 1.0647942749999*I\n",
      "y = <bound method EvalfMixin.evalf of x*(-0.0952380952380952 - 1.0647942749999*I) + 6.66666666666667 + 7.4535599249993*I>\n",
      "y = x*(-0.0952380952380952 - 1.0647942749999*I) + 6.66666666666667 + 7.4535599249993*I\n",
      "i = -0.0952380952380952 + 1.0647942749999*I\n",
      "y = <bound method EvalfMixin.evalf of x*(-0.0952380952380952 + 1.0647942749999*I) + 6.66666666666667 - 7.4535599249993*I>\n",
      "y = x*(-0.0952380952380952 + 1.0647942749999*I) + 6.66666666666667 - 7.4535599249993*I\n"
     ]
    }
   ],
   "source": [
    "import numpy as np\n",
    "from sympy import *\n",
    "\n",
    "print(\"Введите x0\")\n",
    "x0 = float(input())\n",
    "\n",
    "print(\"Введите y0\")\n",
    "y0 = float(input())\n",
    "\n",
    "print(\"Введите радиус\")\n",
    "r = float(input())\n",
    "\n",
    "print(\"Введите x1\")\n",
    "x1 = float(input())\n",
    "\n",
    "print(\"Введите y1\")\n",
    "y1 = float(input())\n",
    "\n",
    "x,y,k = symbols('x y k')\n",
    "\n",
    "y2 = k * (x - x1) - (y - y1)\n",
    "res_y = solve(y2,y)[0]\n",
    "\n",
    "x2 = (x - x0) ** 2 + (res_y - y0)**2 - r**2\n",
    "\n",
    "x3 = collect(x2.cancel(),x)\n",
    "\n",
    "p = poly_from_expr(x3,x)[0]\n",
    "\n",
    "a = p.coeff_monomial(x**2)\n",
    "b = p.coeff_monomial(x)\n",
    "c = p.coeff_monomial(1)\n",
    "\n",
    "res = solve(b**2 - 4 * a * c,k)\n",
    "\n",
    "t = []\n",
    "for i in res:\n",
    "    print(\"i =\",i)\n",
    "    t.append(res_y.subs({k:i}))\n",
    "    print(\"y =\",t[-1].evalf)\n",
    "    print(\"y =\",t[-1])"
   ]
  },
  {
   "cell_type": "markdown",
   "metadata": {},
   "source": [
    "# Знакомство с Pandas"
   ]
  },
  {
   "cell_type": "code",
   "execution_count": 38,
   "metadata": {},
   "outputs": [
    {
     "name": "stdout",
     "output_type": "stream",
     "text": [
      "1.0.5\n"
     ]
    }
   ],
   "source": [
    "import pandas as pd\n",
    "import matplotlib.pyplot as plt\n",
    "import numpy as np\n",
    "\n",
    "print(pd.__version__)"
   ]
  },
  {
   "cell_type": "code",
   "execution_count": 39,
   "metadata": {},
   "outputs": [
    {
     "data": {
      "text/plain": [
       "{}"
      ]
     },
     "execution_count": 39,
     "metadata": {},
     "output_type": "execute_result"
    }
   ],
   "source": [
    "d = {}\n",
    "d"
   ]
  },
  {
   "cell_type": "code",
   "execution_count": 40,
   "metadata": {},
   "outputs": [
    {
     "data": {
      "text/plain": [
       "dict"
      ]
     },
     "execution_count": 40,
     "metadata": {},
     "output_type": "execute_result"
    }
   ],
   "source": [
    "type(d)"
   ]
  },
  {
   "cell_type": "code",
   "execution_count": 42,
   "metadata": {},
   "outputs": [
    {
     "data": {
      "text/plain": [
       "{}"
      ]
     },
     "execution_count": 42,
     "metadata": {},
     "output_type": "execute_result"
    }
   ],
   "source": [
    "d1 = dict()\n",
    "d1"
   ]
  },
  {
   "cell_type": "code",
   "execution_count": 43,
   "metadata": {},
   "outputs": [
    {
     "data": {
      "text/plain": [
       "{'a': 1, 'b': 'asdad', 49.0*k**2 - 14.0*k + 1.0: [1, 2, 3]}"
      ]
     },
     "execution_count": 43,
     "metadata": {},
     "output_type": "execute_result"
    }
   ],
   "source": [
    "d = {'a':1,'b':\"asdad\", c:[1,2,3]}\n",
    "d"
   ]
  },
  {
   "cell_type": "code",
   "execution_count": 44,
   "metadata": {},
   "outputs": [],
   "source": [
    "s = pd.Series(d)"
   ]
  },
  {
   "cell_type": "code",
   "execution_count": 45,
   "metadata": {},
   "outputs": [
    {
     "data": {
      "text/plain": [
       "a                                   1\n",
       "b                               asdad\n",
       "49.0*k**2 - 14.0*k + 1.0    [1, 2, 3]\n",
       "dtype: object"
      ]
     },
     "execution_count": 45,
     "metadata": {},
     "output_type": "execute_result"
    }
   ],
   "source": [
    "s"
   ]
  },
  {
   "cell_type": "code",
   "execution_count": 46,
   "metadata": {},
   "outputs": [
    {
     "data": {
      "text/plain": [
       "{'a': 1, 'b': 2, 'c': 3}"
      ]
     },
     "execution_count": 46,
     "metadata": {},
     "output_type": "execute_result"
    }
   ],
   "source": [
    "d = {'a':1, 'b':2, 'c':3}\n",
    "d"
   ]
  },
  {
   "cell_type": "code",
   "execution_count": 53,
   "metadata": {},
   "outputs": [
    {
     "data": {
      "text/plain": [
       "a    [1, 2, 3]\n",
       "b    [1, 2, 3]\n",
       "c    [1, 2, 3]\n",
       "dtype: object"
      ]
     },
     "execution_count": 53,
     "metadata": {},
     "output_type": "execute_result"
    }
   ],
   "source": [
    "s = pd.Series(d)\n",
    "s"
   ]
  },
  {
   "cell_type": "code",
   "execution_count": 52,
   "metadata": {},
   "outputs": [],
   "source": [
    "d = {'a':[1,2,3], 'b':[1,2,3], 'c':[1,2,3]}"
   ]
  },
  {
   "cell_type": "code",
   "execution_count": 54,
   "metadata": {},
   "outputs": [
    {
     "data": {
      "text/plain": [
       "[1, 2, 3]"
      ]
     },
     "execution_count": 54,
     "metadata": {},
     "output_type": "execute_result"
    }
   ],
   "source": [
    "s[1]"
   ]
  },
  {
   "cell_type": "code",
   "execution_count": 55,
   "metadata": {},
   "outputs": [
    {
     "data": {
      "text/plain": [
       "a    [1, 2, 3]\n",
       "b    [1, 2, 3]\n",
       "dtype: object"
      ]
     },
     "execution_count": 55,
     "metadata": {},
     "output_type": "execute_result"
    }
   ],
   "source": [
    "s[:2]"
   ]
  },
  {
   "cell_type": "code",
   "execution_count": 56,
   "metadata": {},
   "outputs": [
    {
     "data": {
      "text/plain": [
       "['a', 's', 'd', 'a', 's', 'd', 'a', 'd']"
      ]
     },
     "execution_count": 56,
     "metadata": {},
     "output_type": "execute_result"
    }
   ],
   "source": [
    "list_str = list('asdasdad')\n",
    "list_str"
   ]
  },
  {
   "cell_type": "code",
   "execution_count": 58,
   "metadata": {},
   "outputs": [
    {
     "data": {
      "text/plain": [
       "0    a\n",
       "1    s\n",
       "2    d\n",
       "3    a\n",
       "4    s\n",
       "5    d\n",
       "6    a\n",
       "7    d\n",
       "dtype: object"
      ]
     },
     "execution_count": 58,
     "metadata": {},
     "output_type": "execute_result"
    }
   ],
   "source": [
    "s1 = pd.Series(list_str)\n",
    "s1"
   ]
  },
  {
   "cell_type": "code",
   "execution_count": 59,
   "metadata": {},
   "outputs": [
    {
     "data": {
      "text/plain": [
       "0    0\n",
       "1    1\n",
       "2    2\n",
       "3    3\n",
       "4    4\n",
       "5    5\n",
       "6    6\n",
       "7    7\n",
       "8    8\n",
       "9    9\n",
       "dtype: int32"
      ]
     },
     "execution_count": 59,
     "metadata": {},
     "output_type": "execute_result"
    }
   ],
   "source": [
    "s2 = pd.Series(np.arange(10))\n",
    "s2"
   ]
  },
  {
   "cell_type": "code",
   "execution_count": 60,
   "metadata": {},
   "outputs": [
    {
     "data": {
      "text/plain": [
       "0    0\n",
       "1    1\n",
       "2    2\n",
       "3    3\n",
       "4    4\n",
       "5    5\n",
       "6    6\n",
       "7    7\n",
       "8    8\n",
       "9    9\n",
       "Name: a, dtype: int32"
      ]
     },
     "execution_count": 60,
     "metadata": {},
     "output_type": "execute_result"
    }
   ],
   "source": [
    "s2.name = 'a'\n",
    "s2"
   ]
  },
  {
   "cell_type": "code",
   "execution_count": 61,
   "metadata": {},
   "outputs": [
    {
     "data": {
      "text/html": [
       "<div>\n",
       "<style scoped>\n",
       "    .dataframe tbody tr th:only-of-type {\n",
       "        vertical-align: middle;\n",
       "    }\n",
       "\n",
       "    .dataframe tbody tr th {\n",
       "        vertical-align: top;\n",
       "    }\n",
       "\n",
       "    .dataframe thead th {\n",
       "        text-align: right;\n",
       "    }\n",
       "</style>\n",
       "<table border=\"1\" class=\"dataframe\">\n",
       "  <thead>\n",
       "    <tr style=\"text-align: right;\">\n",
       "      <th></th>\n",
       "      <th>a</th>\n",
       "    </tr>\n",
       "  </thead>\n",
       "  <tbody>\n",
       "    <tr>\n",
       "      <th>0</th>\n",
       "      <td>0</td>\n",
       "    </tr>\n",
       "    <tr>\n",
       "      <th>1</th>\n",
       "      <td>1</td>\n",
       "    </tr>\n",
       "    <tr>\n",
       "      <th>2</th>\n",
       "      <td>2</td>\n",
       "    </tr>\n",
       "    <tr>\n",
       "      <th>3</th>\n",
       "      <td>3</td>\n",
       "    </tr>\n",
       "    <tr>\n",
       "      <th>4</th>\n",
       "      <td>4</td>\n",
       "    </tr>\n",
       "    <tr>\n",
       "      <th>5</th>\n",
       "      <td>5</td>\n",
       "    </tr>\n",
       "    <tr>\n",
       "      <th>6</th>\n",
       "      <td>6</td>\n",
       "    </tr>\n",
       "    <tr>\n",
       "      <th>7</th>\n",
       "      <td>7</td>\n",
       "    </tr>\n",
       "    <tr>\n",
       "      <th>8</th>\n",
       "      <td>8</td>\n",
       "    </tr>\n",
       "    <tr>\n",
       "      <th>9</th>\n",
       "      <td>9</td>\n",
       "    </tr>\n",
       "  </tbody>\n",
       "</table>\n",
       "</div>"
      ],
      "text/plain": [
       "   a\n",
       "0  0\n",
       "1  1\n",
       "2  2\n",
       "3  3\n",
       "4  4\n",
       "5  5\n",
       "6  6\n",
       "7  7\n",
       "8  8\n",
       "9  9"
      ]
     },
     "execution_count": 61,
     "metadata": {},
     "output_type": "execute_result"
    }
   ],
   "source": [
    "s2.to_frame()"
   ]
  },
  {
   "cell_type": "code",
   "execution_count": 71,
   "metadata": {},
   "outputs": [
    {
     "data": {
      "text/html": [
       "<div>\n",
       "<style scoped>\n",
       "    .dataframe tbody tr th:only-of-type {\n",
       "        vertical-align: middle;\n",
       "    }\n",
       "\n",
       "    .dataframe tbody tr th {\n",
       "        vertical-align: top;\n",
       "    }\n",
       "\n",
       "    .dataframe thead th {\n",
       "        text-align: right;\n",
       "    }\n",
       "</style>\n",
       "<table border=\"1\" class=\"dataframe\">\n",
       "  <thead>\n",
       "    <tr style=\"text-align: right;\">\n",
       "      <th></th>\n",
       "      <th>1</th>\n",
       "      <th>2</th>\n",
       "      <th>3</th>\n",
       "      <th>4</th>\n",
       "    </tr>\n",
       "  </thead>\n",
       "  <tbody>\n",
       "    <tr>\n",
       "      <th>0</th>\n",
       "      <td>a</td>\n",
       "      <td>a</td>\n",
       "      <td>a</td>\n",
       "      <td>a</td>\n",
       "    </tr>\n",
       "    <tr>\n",
       "      <th>1</th>\n",
       "      <td>s</td>\n",
       "      <td>s</td>\n",
       "      <td>s</td>\n",
       "      <td>s</td>\n",
       "    </tr>\n",
       "    <tr>\n",
       "      <th>2</th>\n",
       "      <td>d</td>\n",
       "      <td>d</td>\n",
       "      <td>d</td>\n",
       "      <td>d</td>\n",
       "    </tr>\n",
       "    <tr>\n",
       "      <th>3</th>\n",
       "      <td>a</td>\n",
       "      <td>a</td>\n",
       "      <td>a</td>\n",
       "      <td>a</td>\n",
       "    </tr>\n",
       "    <tr>\n",
       "      <th>4</th>\n",
       "      <td>s</td>\n",
       "      <td>s</td>\n",
       "      <td>s</td>\n",
       "      <td>s</td>\n",
       "    </tr>\n",
       "    <tr>\n",
       "      <th>5</th>\n",
       "      <td>d</td>\n",
       "      <td>d</td>\n",
       "      <td>d</td>\n",
       "      <td>d</td>\n",
       "    </tr>\n",
       "    <tr>\n",
       "      <th>6</th>\n",
       "      <td>a</td>\n",
       "      <td>a</td>\n",
       "      <td>a</td>\n",
       "      <td>a</td>\n",
       "    </tr>\n",
       "    <tr>\n",
       "      <th>7</th>\n",
       "      <td>d</td>\n",
       "      <td>d</td>\n",
       "      <td>d</td>\n",
       "      <td>d</td>\n",
       "    </tr>\n",
       "  </tbody>\n",
       "</table>\n",
       "</div>"
      ],
      "text/plain": [
       "   1  2  3  4\n",
       "0  a  a  a  a\n",
       "1  s  s  s  s\n",
       "2  d  d  d  d\n",
       "3  a  a  a  a\n",
       "4  s  s  s  s\n",
       "5  d  d  d  d\n",
       "6  a  a  a  a\n",
       "7  d  d  d  d"
      ]
     },
     "execution_count": 71,
     "metadata": {},
     "output_type": "execute_result"
    }
   ],
   "source": [
    "pd.DataFrame({'1':s1,'2':s1,'3':s1,'4':s1})"
   ]
  },
  {
   "cell_type": "code",
   "execution_count": 66,
   "metadata": {},
   "outputs": [],
   "source": [
    "s3 = pd.Series(list_str)"
   ]
  },
  {
   "cell_type": "code",
   "execution_count": 68,
   "metadata": {},
   "outputs": [],
   "source": [
    "s4 = pd.Series(list_str)"
   ]
  },
  {
   "cell_type": "code",
   "execution_count": 80,
   "metadata": {},
   "outputs": [
    {
     "ename": "AttributeError",
     "evalue": "module 'numpy' has no attribute 'setdif1d'",
     "output_type": "error",
     "traceback": [
      "\u001b[1;31m---------------------------------------------------------------------------\u001b[0m",
      "\u001b[1;31mAttributeError\u001b[0m                            Traceback (most recent call last)",
      "\u001b[1;32m<ipython-input-80-529b8648c019>\u001b[0m in \u001b[0;36m<module>\u001b[1;34m\u001b[0m\n\u001b[1;32m----> 1\u001b[1;33m \u001b[0mdiff\u001b[0m \u001b[1;33m=\u001b[0m \u001b[0mnp\u001b[0m\u001b[1;33m.\u001b[0m\u001b[0msetdif1d\u001b[0m\u001b[1;33m(\u001b[0m\u001b[0ms1\u001b[0m\u001b[1;33m,\u001b[0m\u001b[0ms2\u001b[0m\u001b[1;33m,\u001b[0m\u001b[0massume_unique\u001b[0m \u001b[1;33m=\u001b[0m \u001b[1;32mFalse\u001b[0m\u001b[1;33m)\u001b[0m\u001b[1;33m\u001b[0m\u001b[1;33m\u001b[0m\u001b[0m\n\u001b[0m\u001b[0;32m      2\u001b[0m \u001b[0mdiff\u001b[0m\u001b[1;33m\u001b[0m\u001b[1;33m\u001b[0m\u001b[0m\n",
      "\u001b[1;32m~\\anaconda3\\lib\\site-packages\\numpy\\__init__.py\u001b[0m in \u001b[0;36m__getattr__\u001b[1;34m(attr)\u001b[0m\n\u001b[0;32m    217\u001b[0m                 \u001b[1;32mreturn\u001b[0m \u001b[0mTester\u001b[0m\u001b[1;33m\u001b[0m\u001b[1;33m\u001b[0m\u001b[0m\n\u001b[0;32m    218\u001b[0m             \u001b[1;32melse\u001b[0m\u001b[1;33m:\u001b[0m\u001b[1;33m\u001b[0m\u001b[1;33m\u001b[0m\u001b[0m\n\u001b[1;32m--> 219\u001b[1;33m                 raise AttributeError(\"module {!r} has no attribute \"\n\u001b[0m\u001b[0;32m    220\u001b[0m                                      \"{!r}\".format(__name__, attr))\n\u001b[0;32m    221\u001b[0m \u001b[1;33m\u001b[0m\u001b[0m\n",
      "\u001b[1;31mAttributeError\u001b[0m: module 'numpy' has no attribute 'setdif1d'"
     ]
    }
   ],
   "source": [
    "diff = np.setdif1d(s1,s2,assume_unique = False)\n",
    "diff"
   ]
  },
  {
   "cell_type": "code",
   "execution_count": 76,
   "metadata": {},
   "outputs": [
    {
     "data": {
      "text/plain": [
       "0    1\n",
       "1    5\n",
       "dtype: int32"
      ]
     },
     "execution_count": 76,
     "metadata": {},
     "output_type": "execute_result"
    }
   ],
   "source": [
    "s4 = pd.Series(np.arange(1,8,4))\n",
    "s4"
   ]
  },
  {
   "cell_type": "code",
   "execution_count": 78,
   "metadata": {},
   "outputs": [
    {
     "data": {
      "text/plain": [
       "0     1\n",
       "1     5\n",
       "2    12\n",
       "dtype: int64"
      ]
     },
     "execution_count": 78,
     "metadata": {},
     "output_type": "execute_result"
    }
   ],
   "source": [
    "d = {'a':1,'b':5}\n",
    "s2 = pd.Series(d)\n",
    "d1 = {'a':12,'b':5}\n",
    "s4 = pd.Series(d1)\n",
    "s_1 = pd.Series(np.union1d(s2, s4))\n",
    "\n",
    "s_1"
   ]
  },
  {
   "cell_type": "code",
   "execution_count": 79,
   "metadata": {},
   "outputs": [
    {
     "data": {
      "text/plain": [
       "0    5\n",
       "dtype: int64"
      ]
     },
     "execution_count": 79,
     "metadata": {},
     "output_type": "execute_result"
    }
   ],
   "source": [
    "s_2 = pd.Series(np.intersect1d(s2, s4))\n",
    "s_2"
   ]
  },
  {
   "cell_type": "code",
   "execution_count": 81,
   "metadata": {},
   "outputs": [
    {
     "data": {
      "text/plain": [
       "0     1\n",
       "2    12\n",
       "dtype: int64"
      ]
     },
     "execution_count": 81,
     "metadata": {},
     "output_type": "execute_result"
    }
   ],
   "source": [
    "sf = s_1[~s_1.isin(s_2)]\n",
    "sf"
   ]
  },
  {
   "cell_type": "code",
   "execution_count": 106,
   "metadata": {},
   "outputs": [
    {
     "name": "stdout",
     "output_type": "stream",
     "text": [
      "0     1.0\n",
      "1     1.0\n",
      "2     1.0\n",
      "3     1.0\n",
      "4     1.0\n",
      "5     1.0\n",
      "6     1.0\n",
      "7     1.0\n",
      "8     1.0\n",
      "9     1.0\n",
      "10    1.0\n",
      "11    1.0\n",
      "dtype: float64\n",
      "0    x\n",
      "1    x\n",
      "2    a\n",
      "3    a\n",
      "4    s\n",
      "5    d\n",
      "6    a\n",
      "7    s\n",
      "8    d\n",
      "dtype: object\n"
     ]
    }
   ],
   "source": [
    "a = np.ones(12)\n",
    "s0 = pd.Series(a)\n",
    "print(s0)\n",
    "s2 = pd.Series(list('xxaasdasd'))\n",
    "print(s2)"
   ]
  },
  {
   "cell_type": "code",
   "execution_count": 109,
   "metadata": {},
   "outputs": [
    {
     "data": {
      "text/plain": [
       "0     1.0\n",
       "1     1.0\n",
       "2     1.0\n",
       "3     1.0\n",
       "4     1.0\n",
       "5     1.0\n",
       "6     1.0\n",
       "7     1.0\n",
       "8     1.0\n",
       "9     1.0\n",
       "10    1.0\n",
       "11    1.0\n",
       "dtype: float64"
      ]
     },
     "execution_count": 109,
     "metadata": {},
     "output_type": "execute_result"
    }
   ],
   "source": [
    "sf = s0[~s0.isin(s2)]\n",
    "sf"
   ]
  },
  {
   "cell_type": "code",
   "execution_count": 115,
   "metadata": {},
   "outputs": [
    {
     "data": {
      "text/plain": [
       "0   2020-09-14\n",
       "1   2020-09-19\n",
       "2   2020-11-07\n",
       "dtype: datetime64[ns]"
      ]
     },
     "execution_count": 115,
     "metadata": {},
     "output_type": "execute_result"
    }
   ],
   "source": [
    "# преобразуем даты \n",
    "s = pd.Series(['14.09.2020','19.09.2020','07.11.2020'])\n",
    "pd.to_datetime(s,format = '%d.%m.%Y')"
   ]
  },
  {
   "cell_type": "code",
   "execution_count": 116,
   "metadata": {},
   "outputs": [
    {
     "data": {
      "text/plain": [
       "2020-01-01   -0.341414\n",
       "2020-01-02   -1.634229\n",
       "2020-01-03    0.931520\n",
       "2020-01-04   -0.141685\n",
       "2020-01-05    0.964415\n",
       "2020-01-06    1.779757\n",
       "2020-01-07    0.592806\n",
       "2020-01-08   -1.580382\n",
       "2020-01-09   -0.875949\n",
       "2020-01-10   -0.356116\n",
       "2020-01-11   -0.903041\n",
       "2020-01-12    0.118455\n",
       "2020-01-13   -0.720942\n",
       "2020-01-14   -1.138041\n",
       "2020-01-15   -0.791469\n",
       "2020-01-16    0.167780\n",
       "2020-01-17   -0.364213\n",
       "2020-01-18   -0.022486\n",
       "2020-01-19    2.090483\n",
       "2020-01-20    1.154012\n",
       "2020-01-21   -2.084915\n",
       "2020-01-22    0.832950\n",
       "2020-01-23   -0.525236\n",
       "2020-01-24   -0.193280\n",
       "2020-01-25   -0.790858\n",
       "2020-01-26   -0.183512\n",
       "2020-01-27    0.412854\n",
       "2020-01-28    2.007871\n",
       "2020-01-29   -0.881373\n",
       "2020-01-30   -1.619091\n",
       "Freq: D, dtype: float64"
      ]
     },
     "execution_count": 116,
     "metadata": {},
     "output_type": "execute_result"
    }
   ],
   "source": [
    "date = pd.Series(np.random.randn(30), index = pd.date_range('1/1/2020', periods = 30))\n",
    "date"
   ]
  },
  {
   "cell_type": "code",
   "execution_count": 133,
   "metadata": {},
   "outputs": [
    {
     "data": {
      "text/plain": [
       "<matplotlib.axes._subplots.AxesSubplot at 0xb3cbcd0>"
      ]
     },
     "execution_count": 133,
     "metadata": {},
     "output_type": "execute_result"
    },
    {
     "data": {
      "text/plain": [
       "<Figure size 432x288 with 0 Axes>"
      ]
     },
     "metadata": {},
     "output_type": "display_data"
    },
    {
     "data": {
      "image/png": "[encoded data removed]",
      "text/plain": [
       "<Figure size 432x288 with 1 Axes>"
      ]
     },
     "metadata": {
      "needs_background": "light"
     },
     "output_type": "display_data"
    },
    {
     "data": {
      "image/png": "[encoded data removed]",
      "text/plain": [
       "<Figure size 432x288 with 1 Axes>"
      ]
     },
     "metadata": {
      "needs_background": "light"
     },
     "output_type": "display_data"
    }
   ],
   "source": [
    "df = pd.DataFrame(np.random.rand(30,8),\n",
    "                 index = date.index,\n",
    "                 columns = ['a','b','c','d','aa','ab','ac','ad'])\n",
    "plt.figure()\n",
    "df.plot()\n",
    "df1 = df.cumsum()\n",
    "df1.plot()"
   ]
  },
  {
   "cell_type": "code",
   "execution_count": null,
   "metadata": {},
   "outputs": [],
   "source": []
  },
  {
   "cell_type": "code",
   "execution_count": null,
   "metadata": {},
   "outputs": [],
   "source": []
  }
 ],
 "metadata": {
  "kernelspec": {
   "display_name": "Python 3",
   "language": "python",
   "name": "python3"
  },
  "language_info": {
   "codemirror_mode": {
    "name": "ipython",
    "version": 3
   },
   "file_extension": ".py",
   "mimetype": "text/x-python",
   "name": "python",
   "nbconvert_exporter": "python",
   "pygments_lexer": "ipython3",
   "version": "3.8.3"
  }
 },
 "nbformat": 4,
 "nbformat_minor": 4
}
